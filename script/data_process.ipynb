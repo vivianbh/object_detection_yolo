{
 "cells": [
  {
   "cell_type": "markdown",
   "id": "c47154b5",
   "metadata": {},
   "source": [
    "### Dataset"
   ]
  },
  {
   "cell_type": "code",
   "execution_count": 1,
   "id": "d30a0670",
   "metadata": {},
   "outputs": [
    {
     "name": "stdout",
     "output_type": "stream",
     "text": [
      "Requirement already satisfied: pyyaml in /home/ncrl/anaconda3/lib/python3.9/site-packages (6.0)\r\n"
     ]
    }
   ],
   "source": [
    "!pip install pyyaml"
   ]
  },
  {
   "cell_type": "code",
   "execution_count": 2,
   "id": "e1a59bcd",
   "metadata": {},
   "outputs": [],
   "source": [
    "import os \n",
    "import yaml"
   ]
  },
  {
   "cell_type": "code",
   "execution_count": 34,
   "id": "fd1e0f0a",
   "metadata": {},
   "outputs": [],
   "source": [
    "pathDir = '/home/ncrl/Downloads/dataset/aerial-cars-dataset/labels/train'\n",
    "_pathDir = '/home/ncrl/Downloads/dataset/aerial-cars-dataset_/labels/train'\n",
    "workingDir = '/home/ncrl/Downloads/dataset/aerial-cars-dataset'\n",
    "datayaml = '/home/ncrl/Downloads/dataset/aerial-cars-dataset/data.yaml'"
   ]
  },
  {
   "cell_type": "code",
   "execution_count": 35,
   "id": "065d3b86",
   "metadata": {},
   "outputs": [
    {
     "name": "stdout",
     "output_type": "stream",
     "text": [
      "Current working directory: /home/ncrl/Downloads/dataset/aerial-cars-dataset\n",
      "{'cars': '0'}\n"
     ]
    }
   ],
   "source": [
    "os.chdir(workingDir)\n",
    "cwd = os.getcwd()\n",
    "print(\"Current working directory:\", cwd)\n",
    "\n",
    "# Read YAML file\n",
    "with open(\"data.yaml\", 'r') as stream:\n",
    "    data_loaded = yaml.safe_load(stream)\n",
    "\n",
    "cls = data_loaded['names']\n",
    "cls_dic = {}\n",
    "for i in range(len(cls)):\n",
    "    cls_dic[cls[i]] = str(i)\n",
    "\n",
    "print(cls_dic)"
   ]
  },
  {
   "cell_type": "code",
   "execution_count": 36,
   "id": "c51b4f7d",
   "metadata": {},
   "outputs": [],
   "source": [
    "os.chdir(pathDir)\n",
    "labeldata = {}\n",
    "labelfile = []\n",
    "\n",
    "# Read text File\n",
    "def read_text_file(file_path, file_name):\n",
    "    with open(file_path, 'r') as f: \n",
    "        labeldata[file_name] = f.read()\n",
    "        labelfile.append(file_name)\n",
    "        \n",
    "# iterate through all file \n",
    "for file in os.listdir(): \n",
    "    # Check whether file is in text format or not \n",
    "    if file.endswith(\".txt\"): \n",
    "        file_path = f\"{pathDir}/{file}\"\n",
    "        file_name = f\"{file}\"\n",
    "  \n",
    "        # call read text file function \n",
    "        read_text_file(file_path, file_name)"
   ]
  },
  {
   "cell_type": "code",
   "execution_count": 37,
   "id": "41d06f5a",
   "metadata": {},
   "outputs": [
    {
     "name": "stdout",
     "output_type": "stream",
     "text": [
      "MunichStreet02-MOS88.txt\n",
      "0 0.5994291277258568 0.532604774535809 0.03124672897196262 0.04454907161803714\n",
      "0 0.12130062305295951 0.8808567639257295 0.012602336448598131 0.09011909814323607\n",
      "0 0.08323598130841121 0.18622891246684348 0.023345794392523364 0.09511140583554377\n",
      "0 0.021709501557632398 0.5067427055702918 0.028982398753894082 0.03878037135278515\n",
      "0 0.21550467289719627 0.4230769230769231 0.01636246105919003 0.08668700265251988\n",
      "0 0.2501619937694704 0.8849469496021221 0.013733956386292835 0.09706525198938992\n",
      "0 0.23345015576323988 0.9446286472148541 0.015605295950155761 0.09420318302387268\n",
      "0 0.339661214953271 0.27906631299734747 0.03088582554517134 0.043722015915119365\n",
      "0 0.41566043613707165 0.23507957559681697 0.030842133956386294 0.0465923076923077\n",
      "0 0.37895872274143305 0.22844827586206898 0.02483839563862928 0.042023342175066314\n",
      "0 0.3420303738317757 0.22004854111405833 0.02869010903426791 0.04220132625994695\n",
      "0 0.7270249221183801 0.3091299734748011 0.031789485981308416 0.050464456233421745\n",
      "0 0.6876619937694703 0.2882413793103448 0.02662063862928349 0.04760530503978779\n",
      "0 0.43152881619937694 0.29874005305039786 0.029044392523364486 0.044092307692307695\n",
      "0 0.3723714953271028 0.3360954907161804 0.028581697819314644 0.040549071618037134\n",
      "0 0.6486892523364486 0.28050397877984085 0.026214641744548284 0.04185649867374005\n",
      "0 0.6172764797507788 0.27663660477453583 0.025499610591900312 0.044954641909814325\n",
      "0 0.5860591900311527 0.27354111405835546 0.03023777258566978 0.04126763925729443\n",
      "0 0.5400763239875389 0.26271007957559683 0.029565654205607476 0.043365251989389925\n",
      "0 0.8867133956386293 0.19938116710875334 0.01159727414330218 0.08760159151193633\n",
      "0 0.8891510903426791 0.10389045092838196 0.013070638629283487 0.07986233421750663\n",
      "0 0.8308644859813084 0.15351458885941643 0.011597897196261682 0.09157851458885942\n",
      "0 0.7265381619937694 0.42937665782493367 0.0328183800623053 0.05455119363395225\n",
      "0 0.833886292834891 0.48386472148541115 0.026571028037383176 0.050681432360742705\n",
      "0 0.9401635514018692 0.5376870026525199 0.035912772585669786 0.058032625994694956\n",
      "0 0.8689953271028037 0.6761724137931034 0.028843068535825547 0.07581246684350132\n",
      "0 0.33184034267912776 0.6295305039787799 0.029798753894080997 0.04471909814323608\n",
      "0 0.3682180685358255 0.6267692307692307 0.02798894080996885 0.0437291777188329\n",
      "0 0.42802414330218064 0.6215729442970822 0.02545545171339564 0.045142175066312996\n",
      "0 0.46187071651090345 0.626106100795756 0.026084267912772584 0.042215119363395226\n",
      "0 0.4990911214953271 0.6304164456233422 0.025854205607476637 0.043969496021220154\n",
      "0 0.5390708722741433 0.6400318302387268 0.03163621495327103 0.0460896551724138\n",
      "0 0.5740848909657321 0.648209549071618 0.024085669781931465 0.04387824933687003\n",
      "0 0.6165630841121496 0.6543978779840849 0.026198208722741433 0.04222970822281167\n",
      "0 0.6438216510903427 0.6555039787798409 0.018217289719626165 0.03755835543766578\n",
      "0 0.6725077881619937 0.6650079575596817 0.03060545171339564 0.03913103448275862\n",
      "0 0.7127788161993769 0.6772758620689655 0.03122468847352025 0.04604005305039788\n",
      "0 0.7844003115264797 0.6896551724137931 0.024494392523364487 0.04605649867374005\n",
      "3 0.343068535826 0.396551724138 0.035046728972 0.0557029177719\n",
      "\n"
     ]
    }
   ],
   "source": [
    "print(labelfile[0])\n",
    "print(labeldata[labelfile[0]])"
   ]
  },
  {
   "cell_type": "code",
   "execution_count": 38,
   "id": "452262d0",
   "metadata": {},
   "outputs": [
    {
     "name": "stdout",
     "output_type": "stream",
     "text": [
      "0 0.5994291277258568 0.532604774535809 0.03124672897196262 0.04454907161803714\n",
      "0\n"
     ]
    }
   ],
   "source": [
    "x = labeldata[labelfile[0]].split('\\n')\n",
    "print(x[0])\n",
    "print(x[0][0])"
   ]
  },
  {
   "cell_type": "code",
   "execution_count": 39,
   "id": "d58e2c28",
   "metadata": {},
   "outputs": [],
   "source": [
    "_cls = ['Car', 'Motorcycle', 'Person']"
   ]
  },
  {
   "cell_type": "code",
   "execution_count": 40,
   "id": "bd3f5d89",
   "metadata": {},
   "outputs": [],
   "source": [
    "# one file operation\n",
    "#filelines = labeldata[labelfile[0]].split('\\n')\n",
    "#_filelines = ''\n",
    "\n",
    "#for line in filelines:\n",
    "    #print(line)\n",
    "#    if line[0] == cls_dic[cls[0]]:\n",
    "#        line = '1' + line[1:]\n",
    "#    if line[0] == cls_dic[cls[1]]:\n",
    "#        line = '0' + line[1:]\n",
    "#    if line[0] == cls_dic[cls[2]]:\n",
    "#        line = '0' + line[1:]\n",
    "#    if line[0] == cls_dic[cls[3]]:\n",
    "#        line = '1' + line[1:]\n",
    "#    if line[0] == cls_dic[cls[4]]:\n",
    "#        line = '0' + line[1:]\n",
    "    #print(line)\n",
    "#    _filelines = _filelines + line + '\\n'\n",
    "\n",
    "#print(_filelines)"
   ]
  },
  {
   "cell_type": "code",
   "execution_count": 41,
   "id": "5c20f439",
   "metadata": {},
   "outputs": [],
   "source": [
    "# one file operation\n",
    "#os.makedirs(_pathDir, exist_ok=True)\n",
    "\n",
    "#output = f'{_pathDir}/{labelfile[0]}.txt'\n",
    "#print(output)\n",
    "\n",
    "#with open(output, 'w') as f:\n",
    "#    f.write(_filelines)"
   ]
  },
  {
   "cell_type": "code",
   "execution_count": 42,
   "id": "f05acfad",
   "metadata": {},
   "outputs": [
    {
     "name": "stdout",
     "output_type": "stream",
     "text": [
      "139\n"
     ]
    }
   ],
   "source": [
    "print(len(labeldata))"
   ]
  },
  {
   "cell_type": "markdown",
   "id": "37d39fca",
   "metadata": {},
   "source": [
    "# multi file operation\n",
    "#\n",
    "# dataset: car_cars\n",
    "#\n",
    "for ff in range(len(labeldata)):\n",
    "    filelines = labeldata[labelfile[ff]].split('\\n')\n",
    "    _filelines = ''\n",
    "\n",
    "    for line in filelines:\n",
    "        #print(line)\n",
    "        if len(line) == 0:\n",
    "            continue\n",
    "        if line[0] == cls_dic[cls[0]]:\n",
    "            line = '1' + line[1:]\n",
    "        if line[0] == cls_dic[cls[1]]:\n",
    "            line = '0' + line[1:]\n",
    "        if line[0] == cls_dic[cls[2]]:\n",
    "            line = '0' + line[1:]\n",
    "        if line[0] == cls_dic[cls[3]]:\n",
    "            line = '1' + line[1:]\n",
    "        if line[0] == cls_dic[cls[4]]:\n",
    "            line = '0' + line[1:]\n",
    "        #print(line)\n",
    "        _filelines = _filelines + line + '\\n'\n",
    "        \n",
    "    os.makedirs(_pathDir, exist_ok=True)\n",
    "    output = f'{_pathDir}/{labelfile[ff]}.txt'\n",
    "    #print(output)\n",
    "    with open(output, 'w') as f:\n",
    "        f.write(_filelines)\n",
    "\n",
    "#print(_filelines)"
   ]
  },
  {
   "cell_type": "code",
   "execution_count": 43,
   "id": "8ca7af18",
   "metadata": {},
   "outputs": [],
   "source": [
    "_cls = ['Car', 'Motorcycle', 'Person']"
   ]
  },
  {
   "cell_type": "markdown",
   "id": "5d2b0c41",
   "metadata": {},
   "source": [
    "# multi file operation\n",
    "#\n",
    "# dataset: car_detection\n",
    "#\n",
    "for ff in range(len(labeldata)):\n",
    "    filelines = labeldata[labelfile[ff]].split('\\n')\n",
    "    _filelines = ''\n",
    "\n",
    "    for line in filelines:\n",
    "        #print(line)\n",
    "        if len(line) == 0:\n",
    "            continue\n",
    "        if line[0] == cls_dic[cls[0]]:\n",
    "            line = '0' + line[1:]\n",
    "        if line[0] == cls_dic[cls[1]]:\n",
    "            line = '0' + line[1:]\n",
    "        if line[0] == cls_dic[cls[2]]:\n",
    "            line = '2' + line[1:]\n",
    "        if line[0] == cls_dic[cls[3]]:\n",
    "            pass\n",
    "        if line[0] == cls_dic[cls[4]]:\n",
    "            line = '0' + line[1:]\n",
    "        #print(line)\n",
    "        if line[0] != cls_dic[cls[3]]:\n",
    "            _filelines = _filelines + line + '\\n'\n",
    "        \n",
    "    os.makedirs(_pathDir, exist_ok=True)\n",
    "    output = f'{_pathDir}/{labelfile[ff]}.txt'\n",
    "    #print(output)\n",
    "    with open(output, 'w') as f:\n",
    "        f.write(_filelines)\n",
    "\n",
    "#print(_filelines)"
   ]
  },
  {
   "cell_type": "markdown",
   "id": "06ece25e",
   "metadata": {},
   "source": [
    "# multi file operation\n",
    "#\n",
    "# dataset: car_parking-lot\n",
    "#\n",
    "for ff in range(len(labeldata)):\n",
    "    filelines = labeldata[labelfile[ff]].split('\\n')\n",
    "    _filelines = ''\n",
    "\n",
    "    for line in filelines:\n",
    "        #print(line)\n",
    "        if len(line) == 0:\n",
    "            continue\n",
    "        if line[0] == cls_dic[cls[0]]:\n",
    "            line = '0' + line[1:]\n",
    "        if line[0] == cls_dic[cls[1]]:\n",
    "            pass\n",
    "        #print(line)\n",
    "        if line[0] != cls_dic[cls[1]]:\n",
    "            _filelines = _filelines + line + '\\n'\n",
    "        \n",
    "    os.makedirs(_pathDir, exist_ok=True)\n",
    "    output = f'{_pathDir}/{labelfile[ff]}.txt'\n",
    "    #print(output)\n",
    "    with open(output, 'w') as f:\n",
    "        f.write(_filelines)\n",
    "\n",
    "#print(_filelines)"
   ]
  },
  {
   "cell_type": "code",
   "execution_count": 44,
   "id": "a8be0e2e",
   "metadata": {},
   "outputs": [],
   "source": [
    "# multi file operation\n",
    "#\n",
    "# dataset: aerial car\n",
    "#\n",
    "for ff in range(len(labeldata)):\n",
    "    filelines = labeldata[labelfile[ff]].split('\\n')\n",
    "    _filelines = ''\n",
    "\n",
    "    for line in filelines:\n",
    "        #print(line)\n",
    "        if len(line) == 0:\n",
    "            continue\n",
    "        if line[0] != 0:\n",
    "            line = '0' + line[1:]\n",
    "        #print(line)\n",
    "        _filelines = _filelines + line + '\\n'\n",
    "        \n",
    "    os.makedirs(_pathDir, exist_ok=True)\n",
    "    output = f'{_pathDir}/{labelfile[ff]}'\n",
    "    #print(output)\n",
    "    with open(output, 'w') as f:\n",
    "        f.write(_filelines)\n",
    "\n",
    "#print(_filelines)"
   ]
  },
  {
   "cell_type": "code",
   "execution_count": null,
   "id": "3e81902c",
   "metadata": {},
   "outputs": [],
   "source": []
  }
 ],
 "metadata": {
  "kernelspec": {
   "display_name": "Python 3 (ipykernel)",
   "language": "python",
   "name": "python3"
  },
  "language_info": {
   "codemirror_mode": {
    "name": "ipython",
    "version": 3
   },
   "file_extension": ".py",
   "mimetype": "text/x-python",
   "name": "python",
   "nbconvert_exporter": "python",
   "pygments_lexer": "ipython3",
   "version": "3.9.7"
  }
 },
 "nbformat": 4,
 "nbformat_minor": 5
}
